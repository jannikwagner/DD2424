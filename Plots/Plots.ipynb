{
 "cells": [
  {
   "cell_type": "code",
   "execution_count": 1,
   "id": "1f20b4f5",
   "metadata": {},
   "outputs": [
    {
     "name": "stderr",
     "output_type": "stream",
     "text": [
      "┌ Info: Precompiling DiffEqFlux [aae7a2af-3d4f-5e19-a356-7da93b79d9d0]\n",
      "└ @ Base loading.jl:1317\n",
      "WARNING: Method definition (::Type{DiffEqFlux.DeterministicCNF{M, P, RE, D, T, A, K} where K where A where T where D where RE where P where M})(Any, Any, Any, Any, Any, Any, Any) in module DiffEqFlux at /Users/niclaspopp/.julia/packages/DiffEqFlux/UPHk9/src/ffjord.jl:41 overwritten at deprecated.jl:70.\n",
      "  ** incremental compilation may be fatally broken for this module **\n",
      "\n"
     ]
    },
    {
     "data": {
      "text/plain": [
       "Plots.PGFPlotsXBackend()"
      ]
     },
     "execution_count": 1,
     "metadata": {},
     "output_type": "execute_result"
    }
   ],
   "source": [
    "using DiffEqFlux, DifferentialEquations, Plots, GalacticOptim, DelimitedFiles, PGFPlotsX\n",
    "pgfplotsx()"
   ]
  },
  {
   "cell_type": "code",
   "execution_count": 4,
   "id": "e41d5c20",
   "metadata": {},
   "outputs": [
    {
     "data": {
      "text/plain": [
       "2×100 Matrix{Float32}:\n",
       " 1.0  0.996931  0.993173  0.98694   0.975436  …  0.267768  0.212094  0.15668\n",
       " 0.0  0.150823  0.300113  0.447129  0.590078     0.971975  0.971279  0.969452"
      ]
     },
     "execution_count": 4,
     "metadata": {},
     "output_type": "execute_result"
    }
   ],
   "source": [
    "u0 = Float32[1.0; 0.0] # Initial condition\n",
    "datasize = 100 # Number of data points\n",
    "tspan = (0.0f0, 3.0f0) # Time range\n",
    "tsteps = range(tspan[1], tspan[2], length = datasize) # Split time range into equal steps for each data point\n",
    "\n",
    "# Function that will generate the data we are trying to fit\n",
    "function trueODEfunc(du, u, p, t)\n",
    "    true_A = [-0.1 5.0; -2.0 -0.1]\n",
    "    du .= ((u.^3)'true_A)' # Need transposes to make the matrix multiplication work\n",
    "end\n",
    "\n",
    "Data_raw = readdlm(\"intermediate_results_2wave.txt\")\n",
    "n = 100;\n",
    "\n",
    "# Define the problem with the function above\n",
    "prob_trueode = ODEProblem(trueODEfunc, u0, tspan)\n",
    "# Solve and take just the solution array\n",
    "ode_data = Array(solve(prob_trueode, Tsit5(), saveat = tsteps))"
   ]
  },
  {
   "cell_type": "code",
   "execution_count": 25,
   "id": "ec08b3ff",
   "metadata": {},
   "outputs": [],
   "source": [
    "k1 = 1;\n",
    "data1 = Data_raw[k1*100+1:k1+n]\n",
    "#scatter(tsteps,data1,color=\"lightblue1\",markerstrokewidth=0)\n",
    "k2 = 100;\n",
    "data2 = Data_raw[k2*100+1:k2*100+n]\n",
    "scatter(tsteps,data2,color=\"lightblue1\",markerstrokewidth=0,\n",
    "        size=(1000,300),dpi=1000,\n",
    "        legend=:bottomright,label=\"100 iterations\",\n",
    "        xtickfont=font(18),\n",
    "        ytickfont=font(18),\n",
    "        yguidefontsize=14,\n",
    "        xguidefontsize=18,\n",
    "        legendfontsize=16,\n",
    "        titlefontsize=18,\n",
    "        ylabel=\"x(t)\",xlabel=\"t\")\n",
    "k3 = 300;\n",
    "data3 = Data_raw[k3*100+1:k3*100+n]\n",
    "scatter!(tsteps,data3,color=\"deepskyblue\",markerstrokewidth=0,label=\"200 iterations\")\n",
    "k4 = 303;\n",
    "data4 = Data_raw[k4*100+1:k4*100+n]\n",
    "scatter!(tsteps,data4,color=\"dodgerblue2\",markerstrokewidth=0,label=\"300 iterations\")\n",
    "k5 = 305;\n",
    "data5 = Data_raw[k5*100+1:k5*100+n]\n",
    "scatter!(tsteps,data5,color=\"blue2\",markerstrokewidth=0,label=\"400 iterations\")\n",
    "k6 = 400;\n",
    "data6 = Data_raw[k6*100+1:k6*100+n]\n",
    "scatter!(tsteps,data6,color=\"navy\",markerstrokewidth=0,label=\"500 iterations\")\n",
    "scatter!(tsteps,ode_data[1,:],color=\"black\",markerstrokewidth=0,label=\"data\",size=(1000,400),dpi=1000)\n",
    "savefig( \"NeuralODE_progress_tex.png\")"
   ]
  }
 ],
 "metadata": {
  "kernelspec": {
   "display_name": "Julia 1.6.1",
   "language": "julia",
   "name": "julia-1.6"
  },
  "language_info": {
   "file_extension": ".jl",
   "mimetype": "application/julia",
   "name": "julia",
   "version": "1.6.1"
  }
 },
 "nbformat": 4,
 "nbformat_minor": 5
}
